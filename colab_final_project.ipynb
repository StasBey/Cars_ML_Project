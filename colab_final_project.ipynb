{
 "cells": [
  {
   "cell_type": "code",
   "execution_count": 1,
   "metadata": {},
   "outputs": [],
   "source": [
    "# Set the seed value for the notebook so the results are reproducible\n",
    "from numpy.random import seed\n",
    "seed(1)"
   ]
  },
  {
   "cell_type": "code",
   "execution_count": 2,
   "metadata": {
    "slideshow": {
     "slide_type": "subslide"
    }
   },
   "outputs": [],
   "source": [
    "# Dependencies\n",
    "import numpy as np\n",
    "import pandas as pd"
   ]
  },
  {
   "cell_type": "code",
   "execution_count": 3,
   "metadata": {},
   "outputs": [
    {
     "data": {
      "text/plain": [
       "'2.2.4-tf'"
      ]
     },
     "execution_count": 3,
     "metadata": {},
     "output_type": "execute_result"
    }
   ],
   "source": [
    "import tensorflow\n",
    "tensorflow.keras.__version__"
   ]
  },
  {
   "cell_type": "code",
   "execution_count": 4,
   "metadata": {
    "slideshow": {
     "slide_type": "fragment"
    }
   },
   "outputs": [
    {
     "data": {
      "text/html": [
       "<div>\n",
       "<style scoped>\n",
       "    .dataframe tbody tr th:only-of-type {\n",
       "        vertical-align: middle;\n",
       "    }\n",
       "\n",
       "    .dataframe tbody tr th {\n",
       "        vertical-align: top;\n",
       "    }\n",
       "\n",
       "    .dataframe thead th {\n",
       "        text-align: right;\n",
       "    }\n",
       "</style>\n",
       "<table border=\"1\" class=\"dataframe\">\n",
       "  <thead>\n",
       "    <tr style=\"text-align: right;\">\n",
       "      <th></th>\n",
       "      <th>make</th>\n",
       "      <th>model</th>\n",
       "      <th>year</th>\n",
       "      <th>fuel_type</th>\n",
       "      <th>hp</th>\n",
       "      <th>cylinders</th>\n",
       "      <th>transmission</th>\n",
       "      <th>drive</th>\n",
       "      <th>doors</th>\n",
       "      <th>category</th>\n",
       "      <th>size</th>\n",
       "      <th>style</th>\n",
       "      <th>mpg_highway</th>\n",
       "      <th>mpg_city</th>\n",
       "      <th>popularity</th>\n",
       "      <th>msrp</th>\n",
       "    </tr>\n",
       "  </thead>\n",
       "  <tbody>\n",
       "    <tr>\n",
       "      <th>0</th>\n",
       "      <td>Chevrolet</td>\n",
       "      <td>Cavalier</td>\n",
       "      <td>2004</td>\n",
       "      <td>regular unleaded</td>\n",
       "      <td>140.0</td>\n",
       "      <td>4.0</td>\n",
       "      <td>MANUAL</td>\n",
       "      <td>front wheel drive</td>\n",
       "      <td>2.0</td>\n",
       "      <td>NaN</td>\n",
       "      <td>Compact</td>\n",
       "      <td>Coupe</td>\n",
       "      <td>33</td>\n",
       "      <td>23</td>\n",
       "      <td>1385</td>\n",
       "      <td>10135</td>\n",
       "    </tr>\n",
       "    <tr>\n",
       "      <th>1</th>\n",
       "      <td>Toyota</td>\n",
       "      <td>ECHO</td>\n",
       "      <td>2003</td>\n",
       "      <td>regular unleaded</td>\n",
       "      <td>108.0</td>\n",
       "      <td>4.0</td>\n",
       "      <td>MANUAL</td>\n",
       "      <td>front wheel drive</td>\n",
       "      <td>2.0</td>\n",
       "      <td>NaN</td>\n",
       "      <td>Compact</td>\n",
       "      <td>Coupe</td>\n",
       "      <td>38</td>\n",
       "      <td>30</td>\n",
       "      <td>2031</td>\n",
       "      <td>10245</td>\n",
       "    </tr>\n",
       "    <tr>\n",
       "      <th>2</th>\n",
       "      <td>Suzuki</td>\n",
       "      <td>Swift</td>\n",
       "      <td>2001</td>\n",
       "      <td>regular unleaded</td>\n",
       "      <td>79.0</td>\n",
       "      <td>4.0</td>\n",
       "      <td>MANUAL</td>\n",
       "      <td>front wheel drive</td>\n",
       "      <td>2.0</td>\n",
       "      <td>Hatchback</td>\n",
       "      <td>Compact</td>\n",
       "      <td>2dr Hatchback</td>\n",
       "      <td>38</td>\n",
       "      <td>31</td>\n",
       "      <td>481</td>\n",
       "      <td>10299</td>\n",
       "    </tr>\n",
       "    <tr>\n",
       "      <th>3</th>\n",
       "      <td>Chevrolet</td>\n",
       "      <td>Cavalier</td>\n",
       "      <td>2005</td>\n",
       "      <td>regular unleaded</td>\n",
       "      <td>140.0</td>\n",
       "      <td>4.0</td>\n",
       "      <td>MANUAL</td>\n",
       "      <td>front wheel drive</td>\n",
       "      <td>2.0</td>\n",
       "      <td>NaN</td>\n",
       "      <td>Compact</td>\n",
       "      <td>Coupe</td>\n",
       "      <td>33</td>\n",
       "      <td>23</td>\n",
       "      <td>1385</td>\n",
       "      <td>10325</td>\n",
       "    </tr>\n",
       "    <tr>\n",
       "      <th>4</th>\n",
       "      <td>Toyota</td>\n",
       "      <td>ECHO</td>\n",
       "      <td>2004</td>\n",
       "      <td>regular unleaded</td>\n",
       "      <td>108.0</td>\n",
       "      <td>4.0</td>\n",
       "      <td>MANUAL</td>\n",
       "      <td>front wheel drive</td>\n",
       "      <td>2.0</td>\n",
       "      <td>NaN</td>\n",
       "      <td>Compact</td>\n",
       "      <td>Coupe</td>\n",
       "      <td>38</td>\n",
       "      <td>30</td>\n",
       "      <td>2031</td>\n",
       "      <td>10355</td>\n",
       "    </tr>\n",
       "  </tbody>\n",
       "</table>\n",
       "</div>"
      ],
      "text/plain": [
       "        make     model  year         fuel_type     hp  cylinders transmission  \\\n",
       "0  Chevrolet  Cavalier  2004  regular unleaded  140.0        4.0       MANUAL   \n",
       "1     Toyota      ECHO  2003  regular unleaded  108.0        4.0       MANUAL   \n",
       "2     Suzuki     Swift  2001  regular unleaded   79.0        4.0       MANUAL   \n",
       "3  Chevrolet  Cavalier  2005  regular unleaded  140.0        4.0       MANUAL   \n",
       "4     Toyota      ECHO  2004  regular unleaded  108.0        4.0       MANUAL   \n",
       "\n",
       "               drive  doors   category     size          style  mpg_highway  \\\n",
       "0  front wheel drive    2.0        NaN  Compact          Coupe           33   \n",
       "1  front wheel drive    2.0        NaN  Compact          Coupe           38   \n",
       "2  front wheel drive    2.0  Hatchback  Compact  2dr Hatchback           38   \n",
       "3  front wheel drive    2.0        NaN  Compact          Coupe           33   \n",
       "4  front wheel drive    2.0        NaN  Compact          Coupe           38   \n",
       "\n",
       "   mpg_city  popularity   msrp  \n",
       "0        23        1385  10135  \n",
       "1        30        2031  10245  \n",
       "2        31         481  10299  \n",
       "3        23        1385  10325  \n",
       "4        30        2031  10355  "
      ]
     },
     "execution_count": 4,
     "metadata": {},
     "output_type": "execute_result"
    }
   ],
   "source": [
    "cars = pd.read_csv('../Resources/cars.csv')\n",
    "cars.head()"
   ]
  },
  {
   "cell_type": "code",
   "execution_count": 13,
   "metadata": {},
   "outputs": [
    {
     "data": {
      "text/plain": [
       "array(['Chevrolet', 'Toyota', 'Suzuki', 'Kia', 'Pontiac', 'Nissan',\n",
       "       'Ford', 'Mazda', 'Scion', 'Plymouth', 'Mitsubishi', 'Dodge', 'GMC',\n",
       "       'Hyundai', 'Volkswagen', 'Honda', 'Chrysler', 'FIAT', 'Oldsmobile',\n",
       "       'Subaru', 'Acura', 'Buick', 'Infiniti', 'Saab', 'Volvo',\n",
       "       'Land Rover', 'Mercedes-Benz', 'Lincoln', 'BMW', 'Lexus', 'Audi',\n",
       "       'HUMMER', 'Cadillac', 'Genesis', 'Lotus', 'Porsche', 'Alfa Romeo',\n",
       "       'Tesla', 'Maserati', 'Aston Martin', 'Ferrari', 'Bentley',\n",
       "       'McLaren', 'Lamborghini', 'Spyker', 'Rolls-Royce', 'Maybach',\n",
       "       'Bugatti'], dtype=object)"
      ]
     },
     "execution_count": 13,
     "metadata": {},
     "output_type": "execute_result"
    }
   ],
   "source": [
    "cars.make.unique()"
   ]
  },
  {
   "cell_type": "code",
   "execution_count": 14,
   "metadata": {},
   "outputs": [
    {
     "data": {
      "text/plain": [
       "array(['Cavalier', 'ECHO', 'Swift', 'Sephia', 'Sunfire', 'Aveo', 'Versa',\n",
       "       'Spark', 'Escort', 'B-Series', 'xA', 'Metro', 'Neon', 'Protege',\n",
       "       'Truck', 'Spectra', 'Mirage', 'Esteem', 'Reno', 'Aerio', 'SX4',\n",
       "       'Forenza', 'S-10', 'Sonoma', 'Rio', 'Mirage G4', 'Fiesta', 'Prizm',\n",
       "       'Versa Note', 'Sonic', 'G3', 'Cobalt', '2', 'Accent', 'G5',\n",
       "       'Yaris', 'Soul', 'Supra', 'Cube', 'Rabbit', 'xD', 'iQ',\n",
       "       'B-Series Truck', 'Vitara', 'Fit', 'iA', 'Sierra 1500 Classic',\n",
       "       'Silverado 1500 Classic', 'Forte', 'Yaris iA', 'PT Cruiser', '500',\n",
       "       'Elantra Touring', 'Tiburon', 'Tracker', 'Vibe', 'Cruze Limited',\n",
       "       'Cruze', 'Jetta', 'Ranger', 'Rondo', 'Voyager', 'Protege5', 'Dart',\n",
       "       'Sentra', 'Focus', 'Caliber', '3', 'Corolla', 'xB', 'Grand Am',\n",
       "       'Elantra', 'Verona', 'Celica', 'Lancer', 'Colorado', 'New Beetle',\n",
       "       'Canyon', 'Equator', 'Elantra Coupe', 'Veloster', 'Alero',\n",
       "       'Malibu Classic', 'Frontier', 'Golf', 'Impreza', 'Civic',\n",
       "       'Caravan', 'Lancer Sportback', 'iM', 'Insight', 'Ram Cargo', 'HHR',\n",
       "       '626', 'Corolla iM', 'G6', 'Elantra GT', 'Matrix', 'Firebird',\n",
       "       'Lumina', 'Avenger', 'Eclipse', 'Kizashi', 'Prius c', 'tC', 'HR-V',\n",
       "       'Uplander', 'Jimmy', 'Grand Vitara', '500L', 'Integra', 'Classic',\n",
       "       'Camry Solara', 'Malibu Maxx', 'Beetle', 'Outlander Sport',\n",
       "       'Cabrio', 'F-150 Heritage', 'Freestar', 'Stratus', 'Tribute',\n",
       "       'Sebring', 'Raider', '5', 'CX-3', 'Mazdaspeed Protege', '500X',\n",
       "       'CR-Z', 'RSX', 'Trax', 'XL-7', 'Prowler', 'Rogue Select',\n",
       "       'Jetta SportWagen', 'Windstar Cargo', 'Juke', 'Element',\n",
       "       'Monte Carlo', 'Dakota', 'Ram Pickup 1500', 'Journey', 'NV200',\n",
       "       'Blazer', 'Intrepid', 'Aztek', 'Tacoma', 'Explorer Sport',\n",
       "       'Verano', 'Sonata', '6', 'Century', 'Grand Prix', 'Passat',\n",
       "       'Ram Wagon', 'Venture', 'CX-5', 'G20', 'Golf SportWagen', 'Optima',\n",
       "       'Solstice', 'Nitro', 'Crosstrek', 'XV Crosstrek', 'Galant', 'XL7',\n",
       "       'Malibu', 'Tucson', 'Legacy', 'CX-7', 'Grand Caravan', 'Sportage',\n",
       "       'City Express', '200', 'Baja', 'Astro Cargo', 'Safari Cargo',\n",
       "       'Accord', 'MPV', 'Equinox', 'Five Hundred', 'Windstar', 'Forester',\n",
       "       'Altima', 'Transit Connect', 'Torrent', 'Fusion', 'Intrigue',\n",
       "       'Malibu Limited', 'Magnum', 'Montero Sport', 'Concorde', 'Rogue',\n",
       "       'Xterra', 'Camry', '9-2X', 'i-MiEV', 'Outlander', 'Passport',\n",
       "       'CR-V', 'Prius', 'Montana', 'Escape', 'XG300', 'Prelude',\n",
       "       'Malibu Hybrid', 'RAV4', 'Astro', 'Safari', 'Mazdaspeed 3',\n",
       "       'Camaro', 'MX-5 Miata', 'GLI', 'Mustang', 'Entourage', 'Jetta GLI',\n",
       "       'Terrain', 'GTI', 'XG350', 'Encore', 'C-Max Hybrid',\n",
       "       'Captiva Sport', 'Montana SV6', 'Rendezvous', 'Sorento',\n",
       "       'Focus ST', 'Pacifica', 'MR2 Spyder', 'C30', 'FR-S', 'Golf GTI',\n",
       "       'Tiguan', 'Outback', 'V40', 'Santa Fe Sport', 'Freelander',\n",
       "       '124 Spider', 'Jetta Hybrid', 'Diamante', 'Freestyle',\n",
       "       'TrailBlazer', 'Spark EV', 'Beetle Convertible', 'BRZ',\n",
       "       'Explorer Sport Trac', 'Tribute Hybrid', 'Amanti', 'LeSabre',\n",
       "       'Fusion Hybrid', 'Mazdaspeed MX-5 Miata', 'Impreza WRX',\n",
       "       'Impala Limited', 'Golf Alltrack', 'TrailBlazer EXT', 'Routan',\n",
       "       'Optima Hybrid', 'Sonata Hybrid', 'F-150', 'Sedona',\n",
       "       'Silverado 1500', 'FJ Cruiser', 'EuroVan', 'S40', 'Quest',\n",
       "       'Borrego', '86', 'WRX', 'Genesis Coupe', 'RX-8', 'Sienna',\n",
       "       'E-Series Van', 'Altima Hybrid', 'Terraza', 'Sierra 1500',\n",
       "       'Prius v', 'Bonneville', 'Envoy', 'Camry Hybrid', 'G8',\n",
       "       'Challenger', 'Silhouette', 'Taurus X', 'ILX', 'Taurus', 'Impala',\n",
       "       'Regal', 'Prius Prime', 'Crosstour', 'Envoy XL', 'Endeavor',\n",
       "       'Express Cargo', 'Savana Cargo', 'Defender', 'Eclipse Spyder',\n",
       "       'Venza', '350Z', 'CL', 'Charger', 'Mazdaspeed 6', 'Millenia',\n",
       "       'Edge', 'Veracruz', 'RAV4 Hybrid', 'Tundra', '300M', 'LHS',\n",
       "       'Traverse', 'V50', 'I35', 'E-Series Wagon', '9-3 Griffin', '3-Sep',\n",
       "       'ILX Hybrid', 'Metris', 'Odyssey', 'Leaf', 'e-Golf', 'Zephyr',\n",
       "       'Acadia', 'Flex', 'R32', 'Crossfire', 'Accord Hybrid',\n",
       "       'Crown Victoria', 'Lucerne', 'Titan', '1 Series', 'Ridgeline',\n",
       "       'Pathfinder', 'Murano', 'Escape Hybrid', 'Accord Crosstour', 'I30',\n",
       "       'IS 300', 'Sierra 1500HD', 'Highlander', 'Envoy XUV', 'Pilot',\n",
       "       'A3', 'CX-9', '370Z', 'B9 Tribeca', 'Durango', 'Town and Country',\n",
       "       'TSX', 'Santa Fe', 'Rainier', 'Tribeca', 'Aurora', 'Explorer',\n",
       "       'H3T', 'Aspen', 'Express', 'Savana', 'H3', 'LaCrosse', 'G35', 'X1',\n",
       "       'CT 200h', 'GTO', 'Maxima', 'GLA-Class', 'Z3', 'Catera',\n",
       "       'TSX Sport Wagon', 'TLX', 'CLA-Class', 'ES 300', 'CC', '300',\n",
       "       'ES 330', '500e', 'Q3', 'EX35', 'Soul EV', 'Cadenza', 'Eos',\n",
       "       'G Sedan', 'Bravada', 'Transit Wagon', 'Avalon', 'LS', 'V70',\n",
       "       'MKC', '4Runner', '2 Series', '3 Series', 'Cascada', 'ATS',\n",
       "       'G37 Sedan', 'G37', 'S60', 'Discovery Series II', '9-4X', 'Q40',\n",
       "       'Q50', 'RX 300', 'Azera', 'QX4', 'S2000', 'Discovery', 'QX50',\n",
       "       'NX 200t', 'Lancer Evolution', 'XC70', 'Park Avenue', 'MKZ Hybrid',\n",
       "       'HS 250h', 'A4', 'Montero', 'MKZ', 'IS 250', 'RDX', 'EX',\n",
       "       'Genesis', 'RX 330', 'Golf R', 'TL', 'Avalanche', 'V60', 'XC60',\n",
       "       'Envision', 'Black Diamond Avalanche', 'G37 Coupe', 'Focus RS',\n",
       "       'LR2', 'Avalon Hybrid', 'XC', 'Bolt EV', 'Fit EV', 'Thunderbird',\n",
       "       'Discovery Sport', 'GLK-Class', 'G Coupe', 'IS 200t', 'SRX',\n",
       "       'Armada', 'ATS Coupe', 'ES 350', 'FX35', 'Mark LT', 'Continental',\n",
       "       'MKX', 'Sierra C3', '5-Sep', 'C-Class', 'X3', 'CTS Coupe',\n",
       "       'Silverado 1500 Hybrid', 'MKS', 'GS 300', 'GLC-Class', 'Q60 Coupe',\n",
       "       'XT5', 'CTS Wagon', 'Enclave', 'Sierra 1500 Hybrid', '9-7X', 'SSR',\n",
       "       'Q5', 'Touareg 2', 'Aviator', 'IS 350', 'XC90', 'NX 300h',\n",
       "       'Accord Plug-In Hybrid', 'B-Class Electric Drive', 'S80',\n",
       "       'allroad quattro', 'C70', 'RC 200t', '4 Series Gran Coupe', 'TT',\n",
       "       'Eldorado', 'A5', 'ES 300h', 'allroad', '4 Series', 'RX 350',\n",
       "       'V60 Cross Country', 'Range Rover Evoque', 'S3', 'Expedition',\n",
       "       'RX 400h', 'JX', 'G80', '3 Series Gran Turismo',\n",
       "       'Murano CrossCabriolet', 'i3', 'QX60', 'MDX', 'FX', 'IS 250 C',\n",
       "       'RC 300', 'Touareg', 'RC 350', 'MKT', 'SS', 'SLK-Class',\n",
       "       'Acadia Limited', 'M35', 'Elise', 'A4 allroad',\n",
       "       'S60 Cross Country', 'G37 Convertible', 'Sequoia', 'Seville',\n",
       "       'DeVille', 'XTS', 'X4', 'A6', 'M', 'CTS', 'GS 200t',\n",
       "       'G Convertible', 'QX70', 'LR3', 'ZDX', '1 Series M', 'CLK-Class',\n",
       "       'DTS', 'Tahoe', 'Town Car', 'GX 470', 'RL', 'STS', 'IS 350 C',\n",
       "       'S90', 'M37', 'M-Class', 'Highlander Hybrid', 'Macan', 'RX 450h',\n",
       "       'Q7', 'Yukon', 'Shelby GT350', 'SLC-Class', 'GS 430', 'S4', 'RLX',\n",
       "       'Q60 Convertible', 'GS 350', 'TTS', 'Shelby GT500', 'Z4', 'K900',\n",
       "       'Suburban', 'R-Class', 'GX 460', 'Q70', 'LR4', 'FX45', 'RAV4 EV',\n",
       "       '5 Series', 'Z4 M', 'M45', 'Boxster', 'Yukon XL', 'GLE-Class',\n",
       "       'Tahoe Hybrid', 'Yukon Hybrid', 'M2', 'Blackwood', 'E-Class',\n",
       "       'Q45', 'Cayman', 'SQ5', 'Corvette Stingray', 'S5', 'GS 460', 'CT6',\n",
       "       '4C', '718 Cayman', 'X5', 'Corvette', 'QX56', 'LS 430', 'TT RS',\n",
       "       'Cayenne', 'FX50', 'M56', 'Cayman S', 'X6', 'QX', 'GS 450h',\n",
       "       'ATS-V', '5 Series Gran Turismo', 'Equus', 'IS F',\n",
       "       'ActiveHybrid 5', 'Navigator', 'M3', 'Escalade EXT', 'RC F',\n",
       "       'Range Rover Sport', 'QX80', 'GL-Class', 'CTS-V Coupe',\n",
       "       'CTS-V Wagon', 'CTS-V', 'Evora', 'M4', 'Phaeton',\n",
       "       'GLE-Class Coupe', 'LX 470', 'Exige', 'A7', 'CLS-Class', 'Model S',\n",
       "       'RS 4', 'SC 430', 'GLS-Class', 'RS 5', 'Ghibli', 'S6', 'Escalade',\n",
       "       'Levante', 'LS 460', 'Escalade Hybrid', '7 Series', 'Escalade ESV',\n",
       "       'STS-V', '6 Series', 'Panamera', '6 Series Gran Coupe', 'XLR',\n",
       "       'Coupe', 'S7', 'Land Cruiser', 'A8', 'RS 6', 'LX 570',\n",
       "       'Range Rover', 'SL-Class', '911', 'ActiveHybrid 7', 'GS F',\n",
       "       'SRT Viper', 'Viper', 'Spyder', 'ActiveHybrid X6', 'NSX', 'Esprit',\n",
       "       'Evora 400', 'M5', 'S-Class', 'XLR-V', 'GranSport', 'V8 Vantage',\n",
       "       'X5 M', 'Quattroporte', 'GT-R', 'X6 M', 'RS 7', 'AMG GT', 'M6',\n",
       "       'CL-Class', 'R8', 'S8', 'G-Class', 'M6 Gran Coupe',\n",
       "       'ALPINA B6 Gran Coupe', 'LS 600h L', 'GranTurismo', 'Z8',\n",
       "       'ALPINA B7', 'M4 GTS', 'Alpina', 'GranTurismo Convertible', '360',\n",
       "       'DB7', 'GT', 'F430', 'Continental GT', 'V12 Vantage',\n",
       "       'Continental Flying Spur', 'V12 Vantage S', 'SLS AMG', 'DB9',\n",
       "       '570S', 'Gallardo', 'Maybach', 'Continental GTC', 'Flying Spur',\n",
       "       'California', 'Rapide', 'DB9 GT', 'Rapide S', 'California T',\n",
       "       'SLS AMG GT', 'Huracan', '550', 'Continental Flying Spur Speed',\n",
       "       'Continental GT Speed', 'Virage', 'C8', '575M', '456M',\n",
       "       'Silver Seraph', 'SLS AMG GT Final Edition', 'Arnage', 'MP4-12C',\n",
       "       'Continental GTC Speed', '458 Italia', 'V12 Vanquish',\n",
       "       'Continental GT Speed Convertible', 'Ghost', 'Park Ward',\n",
       "       '650S Coupe', 'DBS', 'Continental Supersports', 'Vanquish',\n",
       "       '650S Spider', 'Continental Supersports Convertible',\n",
       "       'Superamerica', 'Wraith', 'Ghost Series II',\n",
       "       'Supersports Convertible ISR', 'Diablo', 'FF', 'Mulsanne', '599',\n",
       "       '612 Scaglietti', 'F12 Berlinetta', 'Azure', 'Dawn', 'Murcielago',\n",
       "       'Continental GT3-R', 'Brooklands', 'Corniche', 'Azure T', '57',\n",
       "       'LFA', 'Aventador', 'Phantom', '62', 'Phantom Coupe', 'Carrera GT',\n",
       "       'Phantom Drophead Coupe', 'SLR McLaren', 'Enzo', 'Landaulet',\n",
       "       'Reventon', 'Veyron 16.4'], dtype=object)"
      ]
     },
     "execution_count": 14,
     "metadata": {},
     "output_type": "execute_result"
    }
   ],
   "source": [
    "cars.model.unique()"
   ]
  },
  {
   "cell_type": "code",
   "execution_count": 22,
   "metadata": {},
   "outputs": [
    {
     "data": {
      "text/html": [
       "<div>\n",
       "<style scoped>\n",
       "    .dataframe tbody tr th:only-of-type {\n",
       "        vertical-align: middle;\n",
       "    }\n",
       "\n",
       "    .dataframe tbody tr th {\n",
       "        vertical-align: top;\n",
       "    }\n",
       "\n",
       "    .dataframe thead th {\n",
       "        text-align: right;\n",
       "    }\n",
       "</style>\n",
       "<table border=\"1\" class=\"dataframe\">\n",
       "  <thead>\n",
       "    <tr style=\"text-align: right;\">\n",
       "      <th></th>\n",
       "      <th>year</th>\n",
       "      <th>hp</th>\n",
       "      <th>cylinders</th>\n",
       "      <th>doors</th>\n",
       "      <th>mpg_highway</th>\n",
       "      <th>mpg_city</th>\n",
       "      <th>popularity</th>\n",
       "      <th>msrp</th>\n",
       "    </tr>\n",
       "  </thead>\n",
       "  <tbody>\n",
       "    <tr>\n",
       "      <th>0</th>\n",
       "      <td>2004</td>\n",
       "      <td>140.0</td>\n",
       "      <td>4.0</td>\n",
       "      <td>2.0</td>\n",
       "      <td>33</td>\n",
       "      <td>23</td>\n",
       "      <td>1385</td>\n",
       "      <td>10135</td>\n",
       "    </tr>\n",
       "    <tr>\n",
       "      <th>1</th>\n",
       "      <td>2003</td>\n",
       "      <td>108.0</td>\n",
       "      <td>4.0</td>\n",
       "      <td>2.0</td>\n",
       "      <td>38</td>\n",
       "      <td>30</td>\n",
       "      <td>2031</td>\n",
       "      <td>10245</td>\n",
       "    </tr>\n",
       "    <tr>\n",
       "      <th>2</th>\n",
       "      <td>2001</td>\n",
       "      <td>79.0</td>\n",
       "      <td>4.0</td>\n",
       "      <td>2.0</td>\n",
       "      <td>38</td>\n",
       "      <td>31</td>\n",
       "      <td>481</td>\n",
       "      <td>10299</td>\n",
       "    </tr>\n",
       "    <tr>\n",
       "      <th>3</th>\n",
       "      <td>2005</td>\n",
       "      <td>140.0</td>\n",
       "      <td>4.0</td>\n",
       "      <td>2.0</td>\n",
       "      <td>33</td>\n",
       "      <td>23</td>\n",
       "      <td>1385</td>\n",
       "      <td>10325</td>\n",
       "    </tr>\n",
       "    <tr>\n",
       "      <th>4</th>\n",
       "      <td>2004</td>\n",
       "      <td>108.0</td>\n",
       "      <td>4.0</td>\n",
       "      <td>2.0</td>\n",
       "      <td>38</td>\n",
       "      <td>30</td>\n",
       "      <td>2031</td>\n",
       "      <td>10355</td>\n",
       "    </tr>\n",
       "  </tbody>\n",
       "</table>\n",
       "</div>"
      ],
      "text/plain": [
       "   year     hp  cylinders  doors  mpg_highway  mpg_city  popularity   msrp\n",
       "0  2004  140.0        4.0    2.0           33        23        1385  10135\n",
       "1  2003  108.0        4.0    2.0           38        30        2031  10245\n",
       "2  2001   79.0        4.0    2.0           38        31         481  10299\n",
       "3  2005  140.0        4.0    2.0           33        23        1385  10325\n",
       "4  2004  108.0        4.0    2.0           38        30        2031  10355"
      ]
     },
     "execution_count": 22,
     "metadata": {},
     "output_type": "execute_result"
    }
   ],
   "source": [
    "cars = cars[['year', 'hp', 'cylinders','doors', 'mpg_highway','mpg_city',\n",
    "                  'popularity', 'msrp']]\n",
    "cars.head()"
   ]
  },
  {
   "cell_type": "code",
   "execution_count": 17,
   "metadata": {
    "nbgrader": {
     "grade": false,
     "grade_id": "cell-86a9e3212f200d21",
     "locked": false,
     "schema_version": 1,
     "solution": true
    },
    "slideshow": {
     "slide_type": "subslide"
    }
   },
   "outputs": [
    {
     "name": "stdout",
     "output_type": "stream",
     "text": [
      "(10267, 7) (10267,)\n"
     ]
    }
   ],
   "source": [
    "X = cars.drop(\"msrp\", axis=1)\n",
    "y = cars[\"msrp\"]\n",
    "print(X.shape, y.shape)"
   ]
  },
  {
   "cell_type": "code",
   "execution_count": 18,
   "metadata": {
    "nbgrader": {
     "grade": false,
     "grade_id": "cell-711a82d9b32c83ff",
     "locked": false,
     "schema_version": 1,
     "solution": true
    },
    "slideshow": {
     "slide_type": "fragment"
    }
   },
   "outputs": [],
   "source": [
    "from sklearn.model_selection import train_test_split\n",
    "from sklearn.preprocessing import LabelEncoder, MinMaxScaler\n",
    "from tensorflow.keras.utils import to_categorical"
   ]
  },
  {
   "cell_type": "code",
   "execution_count": 19,
   "metadata": {
    "nbgrader": {
     "grade": false,
     "grade_id": "cell-711a82d9b32c83ff",
     "locked": false,
     "schema_version": 1,
     "solution": true
    },
    "slideshow": {
     "slide_type": "fragment"
    }
   },
   "outputs": [],
   "source": [
    "X_train, X_test, y_train, y_test = train_test_split(\n",
    "    X, y, test_size=0.33, random_state=42)"
   ]
  },
  {
   "cell_type": "code",
   "execution_count": 24,
   "metadata": {
    "nbgrader": {
     "grade": false,
     "grade_id": "cell-711a82d9b32c83ff",
     "locked": false,
     "schema_version": 1,
     "solution": true
    },
    "slideshow": {
     "slide_type": "fragment"
    }
   },
   "outputs": [],
   "source": [
    "X_scaler = MinMaxScaler().fit(X_train)\n",
    "X_train_scaled = X_scaler.transform(X_train)\n",
    "X_test_scaled = X_scaler.transform(X_test)"
   ]
  },
  {
   "cell_type": "code",
   "execution_count": 21,
   "metadata": {
    "nbgrader": {
     "grade": false,
     "grade_id": "cell-711a82d9b32c83ff",
     "locked": false,
     "schema_version": 1,
     "solution": true
    },
    "slideshow": {
     "slide_type": "fragment"
    }
   },
   "outputs": [
    {
     "ename": "ValueError",
     "evalue": "y contains previously unseen labels: [10135, 10325, 10885, 10985, 11155, 11685, 11820, 12270, 12340, 12345, 12480, 12515, 12530, 12660, 12765, 12815, 12995, 13000, 13075, 13330, 13420, 13449, 13485, 13540, 13680, 13839, 13895, 13930, 13961, 14090, 14099, 14130, 14155, 14180, 14250, 14355, 14545, 14645, 14845, 14939, 14961, 15120, 15125, 15145, 15195, 15205, 15249, 15345, 15349, 15360, 15389, 15415, 15420, 15449, 15550, 15675, 15685, 15699, 15720, 15800, 15845, 15889, 15899, 15905, 15920, 15943, 15949, 16060, 16085, 16105, 16140, 16215, 16290, 16375, 16430, 16460, 16470, 16545, 16550, 16580, 16620, 16625, 16630, 16755, 16760, 16789, 16820, 16830, 16855, 16870, 16900, 16905, 16930, 16945, 16980, 17030, 17070, 17085, 17095, 17270, 17284, 17300, 17320, 17399, 17475, 17485, 17560, 17595, 17620, 17695, 17700, 17799, 17805, 17820, 17930, 17990, 18020, 18150, 18299, 18320, 18349, 18350, 18400, 18445, 18470, 18490, 18500, 18519, 18525, 18530, 18549, 18599, 18675, 18725, 18730, 18750, 18785, 18825, 18830, 18835, 18935, 18955, 18965, 19065, 19095, 19160, 19175, 19320, 19490, 19620, 19649, 19785, 19840, 19885, 19925, 19945, 19970, 19980, 20050, 20065, 20075, 20090, 20099, 20115, 20135, 20175, 20209, 20220, 20299, 20310, 20330, 20340, 20405, 20470, 20480, 20499, 20535, 20545, 20580, 20700, 20715, 20840, 20880, 20885, 20890, 20940, 20945, 20999, 21015, 21075, 21145, 21215, 21305, 21315, 21355, 21365, 21385, 21400, 21410, 21450, 21474, 21490, 21510, 21515, 21530, 21615, 21620, 21640, 21645, 21665, 21680, 21699, 21710, 21735, 21775, 21815, 21825, 21830, 21860, 21865, 21870, 21899, 21920, 22005, 22025, 22120, 22130, 22165, 22170, 22180, 22200, 22220, 22235, 22265, 22330, 22335, 22350, 22375, 22385, 22425, 22479, 22550, 22599, 22635, 22640, 22745, 22845, 22885, 22905, 23075, 23100, 23200, 23215, 23249, 23265, 23290, 23405, 23449, 23475, 23539, 23625, 23645, 23695, 23699, 23749, 23875, 23910, 23915, 23960, 23970, 23985, 24020, 24040, 24050, 24063, 24099, 24115, 24149, 24235, 24375, 24435, 24462, 24530, 24540, 24545, 24620, 24645, 24665, 24695, 24780, 24785, 24799, 24820, 24849, 24855, 24940, 25065, 25090, 25210, 25220, 25225, 25325, 25365, 25430, 25435, 25450, 25480, 25555, 25575, 25599, 25660, 25687, 25699, 25725, 25749, 25765, 25800, 25875, 25880, 25905, 25925, 25997, 26045, 26080, 26099, 26105, 26120, 26145, 26160, 26170, 26205, 26220, 26255, 26275, 26299, 26370, 26410, 26440, 26455, 26490, 26499, 26500, 26645, 26650, 26660, 26665, 26735, 26770, 26810, 26865, 26930, 26965, 26970, 26997, 26999, 27135, 27150, 27155, 27185, 27260, 27299, 27330, 27375, 27385, 27410, 27430, 27485, 27505, 27560, 27580, 27585, 27595, 27619, 27680, 27705, 27715, 27740, 27825, 27840, 27875, 27900, 27949, 27965, 28085, 28089, 28090, 28190, 28235, 28365, 28385, 28390, 28400, 28440, 28485, 28520, 28535, 28565, 28630, 28675, 28680, 28699, 28725, 28780, 28820, 28865, 28880, 28890, 28910, 28925, 28960, 29015, 29140, 29145, 29185, 29205, 29210, 29240, 29310, 29360, 29380, 29385, 29390, 29400, 29410, 29425, 29465, 29470, 29520, 29549, 29560, 29605, 29615, 29675, 29690, 29700, 29715, 29765, 29790, 29815, 29835, 29845, 29920, 29999, 30000, 30010, 30035, 30070, 30115, 30145, 30150, 30215, 30225, 30285, 30295, 30310, 30345, 30405, 30440, 30515, 30619, 30635, 30720, 30820, 30855, 30875, 30975, 30980, 31020, 31050, 31055, 31195, 31215, 31235, 31270, 31285, 31295, 31305, 31350, 31365, 31445, 31505, 31525, 31560, 31565, 31575, 31610, 31645, 31650, 31735, 31825, 31860, 31885, 31890, 31970, 31985, 32050, 32055, 32060, 32120, 32155, 32175, 32185, 32205, 32230, 32400, 32515, 32545, 32615, 32645, 32710, 32740, 32750, 32780, 32945, 32960, 33080, 33110, 33130, 33165, 33170, 33265, 33280, 33290, 33325, 33365, 33380, 33460, 33480, 33515, 33580, 33760, 33775, 33860, 33865, 33945, 33995, 34005, 34120, 34145, 34165, 34205, 34290, 34360, 34445, 34530, 34560, 34620, 34635, 34695, 34725, 34735, 34740, 34825, 34890, 34910, 34955, 34965, 35030, 35045, 35105, 35120, 35135, 35140, 35150, 35255, 35290, 35310, 35360, 35510, 35520, 35570, 35620, 35630, 35640, 35655, 35680, 35740, 35775, 35780, 35830, 35845, 35860, 35880, 35890, 36065, 36070, 36080, 36095, 36110, 36120, 36140, 36145, 36159, 36170, 36255, 36280, 36320, 36340, 36360, 36370, 36490, 36495, 36505, 36535, 36540, 36580, 36635, 36645, 36680, 36690, 36715, 36740, 36770, 36790, 36840, 36855, 36931, 36940, 36950, 37045, 37105, 37120, 37185, 37280, 37325, 37380, 37405, 37495, 37525, 37530, 37535, 37550, 37560, 37665, 37675, 37730, 37775, 37790, 37795, 38015, 38165, 38255, 38365, 38425, 38455, 38510, 38520, 38525, 38540, 38570, 38615, 38705, 38790, 38800, 38955, 38980, 39035, 39085, 39185, 39205, 39275, 39285, 39415, 39420, 39535, 39540, 39585, 39635, 39685, 39735, 39750, 39760, 39775, 39870, 39895, 39940, 39970, 39980, 40000, 40020, 40025, 40045, 40095, 40140, 40145, 40155, 40205, 40275, 40295, 40350, 40440, 40445, 40575, 40600, 40730, 40765, 40815, 40840, 40845, 40905, 40925, 41030, 41055, 41225, 41590, 41620, 41635, 41800, 41835, 41840, 41890, 41905, 41955, 42000, 42010, 42020, 42050, 42250, 42310, 42320, 42330, 42370, 42390, 42435, 42450, 42455, 42595, 42615, 42735, 42755, 42840, 42900, 42985, 43030, 43125, 43130, 43250, 43435, 43520, 43525, 43530, 43690, 43710, 43765, 43780, 43810, 44045, 44195, 44355, 44395, 44399, 44410, 44420, 44460, 44660, 44695, 44700, 44705, 44815, 44850, 44875, 44935, 44950, 44995, 45025, 45055, 45080, 45125, 45190, 45255, 45315, 45385, 45510, 45555, 45600, 45705, 45765, 45795, 45860, 45900, 45955, 46045, 46120, 46310, 46380, 46450, 46595, 46800, 46810, 46830, 46835, 46840, 46900, 46920, 46925, 47140, 47175, 47215, 47225, 47310, 47445, 47575, 47600, 47650, 47660, 47670, 47690, 47885, 48000, 48010, 48030, 48065, 48110, 48165, 48325, 48335, 48530, 48575, 48710, 48745, 48810, 49020, 49025, 49125, 49150, 49210, 49295, 49350, 49420, 49460, 49470, 49705, 49915, 50100, 50150, 50165, 50240, 50245, 50280, 50290, 50300, 50320, 50340, 50385, 50470, 50550, 50675, 50740, 50835, 50900, 51015, 51230, 51295, 51375, 51490, 51500, 51525, 51610, 51740, 51785, 51790, 51800, 52250, 52310, 52350, 52360, 52375, 52670, 52795, 52900, 52915, 53000, 53015, 53035, 53135, 53270, 53440, 53450, 53470, 53495, 53635, 53650, 53915, 54115, 54205, 54240, 54505, 54540, 54670, 54700, 54730, 54825, 55010, 55045, 55050, 55100, 55145, 55285, 55345, 55375, 55605, 55705, 55795, 55940, 56200, 56235, 56700, 56780, 56800, 57045, 57050, 57300, 57350, 57400, 57670, 57730, 57995, 58045, 58450, 58885, 58950, 59195, 59200, 59340, 59500, 59855, 59905, 59940, 59950, 59955, 60015, 60300, 60695, 60705, 60800, 61061, 61085, 61140, 61195, 61300, 61450, 61925, 61990, 62000, 62015, 62200, 62250, 62400, 62805, 62860, 62950, 62985, 63015, 63025, 63130, 63160, 63375, 63785, 63855, 64085, 64245, 64300, 64520, 64730, 64855, 64945, 64950, 65100, 65195, 65215, 65225, 65450, 65600, 65965, 66000, 66300, 66800, 66805, 66900, 66910, 66950, 66995, 67440, 67730, 67750, 68160, 68340, 68400, 68500, 68965, 69340, 69650, 69785, 69905, 69980, 70000, 71400, 71450, 72000, 72150, 72320, 72600, 72800, 72900, 73395, 73905, 74000, 74425, 74500, 74600, 74695, 74995, 75000, 75195, 75200, 75300, 75695, 76000, 76600, 77100, 77300, 78000, 78300, 78775, 78995, 79570, 79950, 79970, 79980, 80155, 81013, 81295, 81395, 81795, 81900, 82570, 82633, 82700, 83000, 83015, 83180, 83300, 83450, 83600, 83825, 83995, 84160, 84545, 84950, 84995, 85050, 85200, 85495, 85650, 85995, 87015, 87070, 87465, 87495, 88345, 88700, 88800, 88880, 89350, 89995, 90300, 90500, 91000, 91650, 92000, 93850, 93900, 94900, 94950, 95500, 96300, 96500, 97250, 97395, 97460, 97900, 98700, 98995, 102100, 103200, 103300, 103900, 104215, 104300, 106550, 106900, 110300, 111510, 115710, 117200, 117300, 117500, 118160, 120000, 120395, 120440, 123695, 124000, 124100, 125600, 126500, 131500, 132800, 134295, 134500, 135000, 137000, 137100, 138400, 139900, 141450, 141500, 143300, 143400, 144700, 144995, 151800, 153000, 153195, 164700, 166100, 169050, 170829, 177500, 183700, 184105, 184900, 185800, 186925, 188295, 191995, 195100, 197850, 198250, 198900, 200054, 200800, 201500, 203500, 205840, 206300, 208000, 208295, 212800, 213250, 215800, 216200, 217900, 218310, 219775, 219850, 219900, 219990, 222000, 222300, 224650, 224990, 227600, 228080, 229990, 231800, 237600, 241200, 250000, 250100, 263200, 263990, 265500, 275461, 275861, 278295, 279900, 280225, 283695, 284976, 286739, 287650, 290461, 290861, 291744, 294080, 296000, 301695, 318990, 319400, 335000, 354000, 359990, 364000, 366000, 372500, 375000, 378200, 382400, 410000, 412000, 417825, 418950, 430450, 433550, 456500, 479775, 506500, 643330, 1705769]",
     "output_type": "error",
     "traceback": [
      "\u001b[1;31m---------------------------------------------------------------------------\u001b[0m",
      "\u001b[1;31mValueError\u001b[0m                                Traceback (most recent call last)",
      "\u001b[1;32m<ipython-input-21-c9424eeb4cf9>\u001b[0m in \u001b[0;36m<module>\u001b[1;34m\u001b[0m\n\u001b[0;32m      3\u001b[0m \u001b[0mlabel_encoder\u001b[0m\u001b[1;33m.\u001b[0m\u001b[0mfit\u001b[0m\u001b[1;33m(\u001b[0m\u001b[0my_train\u001b[0m\u001b[1;33m)\u001b[0m\u001b[1;33m\u001b[0m\u001b[1;33m\u001b[0m\u001b[0m\n\u001b[0;32m      4\u001b[0m \u001b[0mencoded_y_train\u001b[0m \u001b[1;33m=\u001b[0m \u001b[0mlabel_encoder\u001b[0m\u001b[1;33m.\u001b[0m\u001b[0mtransform\u001b[0m\u001b[1;33m(\u001b[0m\u001b[0my_train\u001b[0m\u001b[1;33m)\u001b[0m\u001b[1;33m\u001b[0m\u001b[1;33m\u001b[0m\u001b[0m\n\u001b[1;32m----> 5\u001b[1;33m \u001b[0mencoded_y_test\u001b[0m \u001b[1;33m=\u001b[0m \u001b[0mlabel_encoder\u001b[0m\u001b[1;33m.\u001b[0m\u001b[0mtransform\u001b[0m\u001b[1;33m(\u001b[0m\u001b[0my_test\u001b[0m\u001b[1;33m)\u001b[0m\u001b[1;33m\u001b[0m\u001b[1;33m\u001b[0m\u001b[0m\n\u001b[0m",
      "\u001b[1;32m~\\Anaconda3\\lib\\site-packages\\sklearn\\preprocessing\\label.py\u001b[0m in \u001b[0;36mtransform\u001b[1;34m(self, y)\u001b[0m\n\u001b[0;32m    255\u001b[0m             \u001b[1;32mreturn\u001b[0m \u001b[0mnp\u001b[0m\u001b[1;33m.\u001b[0m\u001b[0marray\u001b[0m\u001b[1;33m(\u001b[0m\u001b[1;33m[\u001b[0m\u001b[1;33m]\u001b[0m\u001b[1;33m)\u001b[0m\u001b[1;33m\u001b[0m\u001b[1;33m\u001b[0m\u001b[0m\n\u001b[0;32m    256\u001b[0m \u001b[1;33m\u001b[0m\u001b[0m\n\u001b[1;32m--> 257\u001b[1;33m         \u001b[0m_\u001b[0m\u001b[1;33m,\u001b[0m \u001b[0my\u001b[0m \u001b[1;33m=\u001b[0m \u001b[0m_encode\u001b[0m\u001b[1;33m(\u001b[0m\u001b[0my\u001b[0m\u001b[1;33m,\u001b[0m \u001b[0muniques\u001b[0m\u001b[1;33m=\u001b[0m\u001b[0mself\u001b[0m\u001b[1;33m.\u001b[0m\u001b[0mclasses_\u001b[0m\u001b[1;33m,\u001b[0m \u001b[0mencode\u001b[0m\u001b[1;33m=\u001b[0m\u001b[1;32mTrue\u001b[0m\u001b[1;33m)\u001b[0m\u001b[1;33m\u001b[0m\u001b[1;33m\u001b[0m\u001b[0m\n\u001b[0m\u001b[0;32m    258\u001b[0m         \u001b[1;32mreturn\u001b[0m \u001b[0my\u001b[0m\u001b[1;33m\u001b[0m\u001b[1;33m\u001b[0m\u001b[0m\n\u001b[0;32m    259\u001b[0m \u001b[1;33m\u001b[0m\u001b[0m\n",
      "\u001b[1;32m~\\Anaconda3\\lib\\site-packages\\sklearn\\preprocessing\\label.py\u001b[0m in \u001b[0;36m_encode\u001b[1;34m(values, uniques, encode)\u001b[0m\n\u001b[0;32m    108\u001b[0m         \u001b[1;32mreturn\u001b[0m \u001b[0mres\u001b[0m\u001b[1;33m\u001b[0m\u001b[1;33m\u001b[0m\u001b[0m\n\u001b[0;32m    109\u001b[0m     \u001b[1;32melse\u001b[0m\u001b[1;33m:\u001b[0m\u001b[1;33m\u001b[0m\u001b[1;33m\u001b[0m\u001b[0m\n\u001b[1;32m--> 110\u001b[1;33m         \u001b[1;32mreturn\u001b[0m \u001b[0m_encode_numpy\u001b[0m\u001b[1;33m(\u001b[0m\u001b[0mvalues\u001b[0m\u001b[1;33m,\u001b[0m \u001b[0muniques\u001b[0m\u001b[1;33m,\u001b[0m \u001b[0mencode\u001b[0m\u001b[1;33m)\u001b[0m\u001b[1;33m\u001b[0m\u001b[1;33m\u001b[0m\u001b[0m\n\u001b[0m\u001b[0;32m    111\u001b[0m \u001b[1;33m\u001b[0m\u001b[0m\n\u001b[0;32m    112\u001b[0m \u001b[1;33m\u001b[0m\u001b[0m\n",
      "\u001b[1;32m~\\Anaconda3\\lib\\site-packages\\sklearn\\preprocessing\\label.py\u001b[0m in \u001b[0;36m_encode_numpy\u001b[1;34m(values, uniques, encode)\u001b[0m\n\u001b[0;32m     47\u001b[0m         \u001b[1;32mif\u001b[0m \u001b[0mdiff\u001b[0m\u001b[1;33m:\u001b[0m\u001b[1;33m\u001b[0m\u001b[1;33m\u001b[0m\u001b[0m\n\u001b[0;32m     48\u001b[0m             raise ValueError(\"y contains previously unseen labels: %s\"\n\u001b[1;32m---> 49\u001b[1;33m                              % str(diff))\n\u001b[0m\u001b[0;32m     50\u001b[0m         \u001b[0mencoded\u001b[0m \u001b[1;33m=\u001b[0m \u001b[0mnp\u001b[0m\u001b[1;33m.\u001b[0m\u001b[0msearchsorted\u001b[0m\u001b[1;33m(\u001b[0m\u001b[0muniques\u001b[0m\u001b[1;33m,\u001b[0m \u001b[0mvalues\u001b[0m\u001b[1;33m)\u001b[0m\u001b[1;33m\u001b[0m\u001b[1;33m\u001b[0m\u001b[0m\n\u001b[0;32m     51\u001b[0m         \u001b[1;32mreturn\u001b[0m \u001b[0muniques\u001b[0m\u001b[1;33m,\u001b[0m \u001b[0mencoded\u001b[0m\u001b[1;33m\u001b[0m\u001b[1;33m\u001b[0m\u001b[0m\n",
      "\u001b[1;31mValueError\u001b[0m: y contains previously unseen labels: [10135, 10325, 10885, 10985, 11155, 11685, 11820, 12270, 12340, 12345, 12480, 12515, 12530, 12660, 12765, 12815, 12995, 13000, 13075, 13330, 13420, 13449, 13485, 13540, 13680, 13839, 13895, 13930, 13961, 14090, 14099, 14130, 14155, 14180, 14250, 14355, 14545, 14645, 14845, 14939, 14961, 15120, 15125, 15145, 15195, 15205, 15249, 15345, 15349, 15360, 15389, 15415, 15420, 15449, 15550, 15675, 15685, 15699, 15720, 15800, 15845, 15889, 15899, 15905, 15920, 15943, 15949, 16060, 16085, 16105, 16140, 16215, 16290, 16375, 16430, 16460, 16470, 16545, 16550, 16580, 16620, 16625, 16630, 16755, 16760, 16789, 16820, 16830, 16855, 16870, 16900, 16905, 16930, 16945, 16980, 17030, 17070, 17085, 17095, 17270, 17284, 17300, 17320, 17399, 17475, 17485, 17560, 17595, 17620, 17695, 17700, 17799, 17805, 17820, 17930, 17990, 18020, 18150, 18299, 18320, 18349, 18350, 18400, 18445, 18470, 18490, 18500, 18519, 18525, 18530, 18549, 18599, 18675, 18725, 18730, 18750, 18785, 18825, 18830, 18835, 18935, 18955, 18965, 19065, 19095, 19160, 19175, 19320, 19490, 19620, 19649, 19785, 19840, 19885, 19925, 19945, 19970, 19980, 20050, 20065, 20075, 20090, 20099, 20115, 20135, 20175, 20209, 20220, 20299, 20310, 20330, 20340, 20405, 20470, 20480, 20499, 20535, 20545, 20580, 20700, 20715, 20840, 20880, 20885, 20890, 20940, 20945, 20999, 21015, 21075, 21145, 21215, 21305, 21315, 21355, 21365, 21385, 21400, 21410, 21450, 21474, 21490, 21510, 21515, 21530, 21615, 21620, 21640, 21645, 21665, 21680, 21699, 21710, 21735, 21775, 21815, 21825, 21830, 21860, 21865, 21870, 21899, 21920, 22005, 22025, 22120, 22130, 22165, 22170, 22180, 22200, 22220, 22235, 22265, 22330, 22335, 22350, 22375, 22385, 22425, 22479, 22550, 22599, 22635, 22640, 22745, 22845, 22885, 22905, 23075, 23100, 23200, 23215, 23249, 23265, 23290, 23405, 23449, 23475, 23539, 23625, 23645, 23695, 23699, 23749, 23875, 23910, 23915, 23960, 23970, 23985, 24020, 24040, 24050, 24063, 24099, 24115, 24149, 24235, 24375, 24435, 24462, 24530, 24540, 24545, 24620, 24645, 24665, 24695, 24780, 24785, 24799, 24820, 24849, 24855, 24940, 25065, 25090, 25210, 25220, 25225, 25325, 25365, 25430, 25435, 25450, 25480, 25555, 25575, 25599, 25660, 25687, 25699, 25725, 25749, 25765, 25800, 25875, 25880, 25905, 25925, 25997, 26045, 26080, 26099, 26105, 26120, 26145, 26160, 26170, 26205, 26220, 26255, 26275, 26299, 26370, 26410, 26440, 26455, 26490, 26499, 26500, 26645, 26650, 26660, 26665, 26735, 26770, 26810, 26865, 26930, 26965, 26970, 26997, 26999, 27135, 27150, 27155, 27185, 27260, 27299, 27330, 27375, 27385, 27410, 27430, 27485, 27505, 27560, 27580, 27585, 27595, 27619, 27680, 27705, 27715, 27740, 27825, 27840, 27875, 27900, 27949, 27965, 28085, 28089, 28090, 28190, 28235, 28365, 28385, 28390, 28400, 28440, 28485, 28520, 28535, 28565, 28630, 28675, 28680, 28699, 28725, 28780, 28820, 28865, 28880, 28890, 28910, 28925, 28960, 29015, 29140, 29145, 29185, 29205, 29210, 29240, 29310, 29360, 29380, 29385, 29390, 29400, 29410, 29425, 29465, 29470, 29520, 29549, 29560, 29605, 29615, 29675, 29690, 29700, 29715, 29765, 29790, 29815, 29835, 29845, 29920, 29999, 30000, 30010, 30035, 30070, 30115, 30145, 30150, 30215, 30225, 30285, 30295, 30310, 30345, 30405, 30440, 30515, 30619, 30635, 30720, 30820, 30855, 30875, 30975, 30980, 31020, 31050, 31055, 31195, 31215, 31235, 31270, 31285, 31295, 31305, 31350, 31365, 31445, 31505, 31525, 31560, 31565, 31575, 31610, 31645, 31650, 31735, 31825, 31860, 31885, 31890, 31970, 31985, 32050, 32055, 32060, 32120, 32155, 32175, 32185, 32205, 32230, 32400, 32515, 32545, 32615, 32645, 32710, 32740, 32750, 32780, 32945, 32960, 33080, 33110, 33130, 33165, 33170, 33265, 33280, 33290, 33325, 33365, 33380, 33460, 33480, 33515, 33580, 33760, 33775, 33860, 33865, 33945, 33995, 34005, 34120, 34145, 34165, 34205, 34290, 34360, 34445, 34530, 34560, 34620, 34635, 34695, 34725, 34735, 34740, 34825, 34890, 34910, 34955, 34965, 35030, 35045, 35105, 35120, 35135, 35140, 35150, 35255, 35290, 35310, 35360, 35510, 35520, 35570, 35620, 35630, 35640, 35655, 35680, 35740, 35775, 35780, 35830, 35845, 35860, 35880, 35890, 36065, 36070, 36080, 36095, 36110, 36120, 36140, 36145, 36159, 36170, 36255, 36280, 36320, 36340, 36360, 36370, 36490, 36495, 36505, 36535, 36540, 36580, 36635, 36645, 36680, 36690, 36715, 36740, 36770, 36790, 36840, 36855, 36931, 36940, 36950, 37045, 37105, 37120, 37185, 37280, 37325, 37380, 37405, 37495, 37525, 37530, 37535, 37550, 37560, 37665, 37675, 37730, 37775, 37790, 37795, 38015, 38165, 38255, 38365, 38425, 38455, 38510, 38520, 38525, 38540, 38570, 38615, 38705, 38790, 38800, 38955, 38980, 39035, 39085, 39185, 39205, 39275, 39285, 39415, 39420, 39535, 39540, 39585, 39635, 39685, 39735, 39750, 39760, 39775, 39870, 39895, 39940, 39970, 39980, 40000, 40020, 40025, 40045, 40095, 40140, 40145, 40155, 40205, 40275, 40295, 40350, 40440, 40445, 40575, 40600, 40730, 40765, 40815, 40840, 40845, 40905, 40925, 41030, 41055, 41225, 41590, 41620, 41635, 41800, 41835, 41840, 41890, 41905, 41955, 42000, 42010, 42020, 42050, 42250, 42310, 42320, 42330, 42370, 42390, 42435, 42450, 42455, 42595, 42615, 42735, 42755, 42840, 42900, 42985, 43030, 43125, 43130, 43250, 43435, 43520, 43525, 43530, 43690, 43710, 43765, 43780, 43810, 44045, 44195, 44355, 44395, 44399, 44410, 44420, 44460, 44660, 44695, 44700, 44705, 44815, 44850, 44875, 44935, 44950, 44995, 45025, 45055, 45080, 45125, 45190, 45255, 45315, 45385, 45510, 45555, 45600, 45705, 45765, 45795, 45860, 45900, 45955, 46045, 46120, 46310, 46380, 46450, 46595, 46800, 46810, 46830, 46835, 46840, 46900, 46920, 46925, 47140, 47175, 47215, 47225, 47310, 47445, 47575, 47600, 47650, 47660, 47670, 47690, 47885, 48000, 48010, 48030, 48065, 48110, 48165, 48325, 48335, 48530, 48575, 48710, 48745, 48810, 49020, 49025, 49125, 49150, 49210, 49295, 49350, 49420, 49460, 49470, 49705, 49915, 50100, 50150, 50165, 50240, 50245, 50280, 50290, 50300, 50320, 50340, 50385, 50470, 50550, 50675, 50740, 50835, 50900, 51015, 51230, 51295, 51375, 51490, 51500, 51525, 51610, 51740, 51785, 51790, 51800, 52250, 52310, 52350, 52360, 52375, 52670, 52795, 52900, 52915, 53000, 53015, 53035, 53135, 53270, 53440, 53450, 53470, 53495, 53635, 53650, 53915, 54115, 54205, 54240, 54505, 54540, 54670, 54700, 54730, 54825, 55010, 55045, 55050, 55100, 55145, 55285, 55345, 55375, 55605, 55705, 55795, 55940, 56200, 56235, 56700, 56780, 56800, 57045, 57050, 57300, 57350, 57400, 57670, 57730, 57995, 58045, 58450, 58885, 58950, 59195, 59200, 59340, 59500, 59855, 59905, 59940, 59950, 59955, 60015, 60300, 60695, 60705, 60800, 61061, 61085, 61140, 61195, 61300, 61450, 61925, 61990, 62000, 62015, 62200, 62250, 62400, 62805, 62860, 62950, 62985, 63015, 63025, 63130, 63160, 63375, 63785, 63855, 64085, 64245, 64300, 64520, 64730, 64855, 64945, 64950, 65100, 65195, 65215, 65225, 65450, 65600, 65965, 66000, 66300, 66800, 66805, 66900, 66910, 66950, 66995, 67440, 67730, 67750, 68160, 68340, 68400, 68500, 68965, 69340, 69650, 69785, 69905, 69980, 70000, 71400, 71450, 72000, 72150, 72320, 72600, 72800, 72900, 73395, 73905, 74000, 74425, 74500, 74600, 74695, 74995, 75000, 75195, 75200, 75300, 75695, 76000, 76600, 77100, 77300, 78000, 78300, 78775, 78995, 79570, 79950, 79970, 79980, 80155, 81013, 81295, 81395, 81795, 81900, 82570, 82633, 82700, 83000, 83015, 83180, 83300, 83450, 83600, 83825, 83995, 84160, 84545, 84950, 84995, 85050, 85200, 85495, 85650, 85995, 87015, 87070, 87465, 87495, 88345, 88700, 88800, 88880, 89350, 89995, 90300, 90500, 91000, 91650, 92000, 93850, 93900, 94900, 94950, 95500, 96300, 96500, 97250, 97395, 97460, 97900, 98700, 98995, 102100, 103200, 103300, 103900, 104215, 104300, 106550, 106900, 110300, 111510, 115710, 117200, 117300, 117500, 118160, 120000, 120395, 120440, 123695, 124000, 124100, 125600, 126500, 131500, 132800, 134295, 134500, 135000, 137000, 137100, 138400, 139900, 141450, 141500, 143300, 143400, 144700, 144995, 151800, 153000, 153195, 164700, 166100, 169050, 170829, 177500, 183700, 184105, 184900, 185800, 186925, 188295, 191995, 195100, 197850, 198250, 198900, 200054, 200800, 201500, 203500, 205840, 206300, 208000, 208295, 212800, 213250, 215800, 216200, 217900, 218310, 219775, 219850, 219900, 219990, 222000, 222300, 224650, 224990, 227600, 228080, 229990, 231800, 237600, 241200, 250000, 250100, 263200, 263990, 265500, 275461, 275861, 278295, 279900, 280225, 283695, 284976, 286739, 287650, 290461, 290861, 291744, 294080, 296000, 301695, 318990, 319400, 335000, 354000, 359990, 364000, 366000, 372500, 375000, 378200, 382400, 410000, 412000, 417825, 418950, 430450, 433550, 456500, 479775, 506500, 643330, 1705769]"
     ]
    }
   ],
   "source": [
    "# Step 1: Label-encode data set\n",
    "label_encoder = LabelEncoder()\n",
    "label_encoder.fit(y_train)\n",
    "encoded_y_train = label_encoder.transform(y_train)\n",
    "encoded_y_test = label_encoder.transform(y_test)"
   ]
  },
  {
   "cell_type": "code",
   "execution_count": 10,
   "metadata": {
    "nbgrader": {
     "grade": false,
     "grade_id": "cell-711a82d9b32c83ff",
     "locked": false,
     "schema_version": 1,
     "solution": true
    },
    "slideshow": {
     "slide_type": "fragment"
    }
   },
   "outputs": [],
   "source": [
    "# Step 2: Convert encoded labels to one-hot-encoding\n",
    "y_train_categorical = to_categorical(encoded_y_train)\n",
    "y_test_categorical = to_categorical(encoded_y_test)"
   ]
  },
  {
   "cell_type": "markdown",
   "metadata": {},
   "source": [
    "# Create a Deep Learning Model"
   ]
  },
  {
   "cell_type": "code",
   "execution_count": 11,
   "metadata": {},
   "outputs": [],
   "source": [
    "from tensorflow.keras.models import Sequential\n",
    "from tensorflow.keras.layers import Dense"
   ]
  },
  {
   "cell_type": "code",
   "execution_count": 12,
   "metadata": {},
   "outputs": [],
   "source": [
    "# Create model and add layers\n",
    "model = Sequential()\n",
    "model.add(Dense(units=100, activation='relu', input_dim=20))\n",
    "model.add(Dense(units=100, activation='relu'))\n",
    "model.add(Dense(units=2, activation='softmax'))"
   ]
  },
  {
   "cell_type": "code",
   "execution_count": 13,
   "metadata": {},
   "outputs": [],
   "source": [
    "# Compile and fit the model\n",
    "model.compile(optimizer='adam',\n",
    "              loss='categorical_crossentropy',\n",
    "              metrics=['accuracy'])"
   ]
  },
  {
   "cell_type": "code",
   "execution_count": 14,
   "metadata": {},
   "outputs": [
    {
     "name": "stdout",
     "output_type": "stream",
     "text": [
      "_________________________________________________________________\n",
      "Layer (type)                 Output Shape              Param #   \n",
      "=================================================================\n",
      "dense (Dense)                (None, 100)               2100      \n",
      "_________________________________________________________________\n",
      "dense_1 (Dense)              (None, 100)               10100     \n",
      "_________________________________________________________________\n",
      "dense_2 (Dense)              (None, 2)                 202       \n",
      "=================================================================\n",
      "Total params: 12,402\n",
      "Trainable params: 12,402\n",
      "Non-trainable params: 0\n",
      "_________________________________________________________________\n"
     ]
    }
   ],
   "source": [
    "model.summary()"
   ]
  },
  {
   "cell_type": "code",
   "execution_count": 15,
   "metadata": {},
   "outputs": [
    {
     "name": "stdout",
     "output_type": "stream",
     "text": [
      "Epoch 1/60\n",
      " - 1s - loss: 0.4460 - acc: 0.8371\n",
      "Epoch 2/60\n",
      " - 0s - loss: 0.1865 - acc: 0.9386\n",
      "Epoch 3/60\n",
      " - 0s - loss: 0.1195 - acc: 0.9638\n",
      "Epoch 4/60\n",
      " - 0s - loss: 0.1059 - acc: 0.9668\n",
      "Epoch 5/60\n",
      " - 0s - loss: 0.0999 - acc: 0.9655\n",
      "Epoch 6/60\n",
      " - 0s - loss: 0.0934 - acc: 0.9701\n",
      "Epoch 7/60\n",
      " - 0s - loss: 0.0857 - acc: 0.9739\n",
      "Epoch 8/60\n",
      " - 0s - loss: 0.0887 - acc: 0.9731\n",
      "Epoch 9/60\n",
      " - 0s - loss: 0.0869 - acc: 0.9747\n",
      "Epoch 10/60\n",
      " - 0s - loss: 0.0823 - acc: 0.9747\n",
      "Epoch 11/60\n",
      " - 0s - loss: 0.0809 - acc: 0.9726\n",
      "Epoch 12/60\n",
      " - 0s - loss: 0.0803 - acc: 0.9743\n",
      "Epoch 13/60\n",
      " - 0s - loss: 0.0808 - acc: 0.9718\n",
      "Epoch 14/60\n",
      " - 0s - loss: 0.0775 - acc: 0.9743\n",
      "Epoch 15/60\n",
      " - 0s - loss: 0.0748 - acc: 0.9773\n",
      "Epoch 16/60\n",
      " - 0s - loss: 0.0737 - acc: 0.9760\n",
      "Epoch 17/60\n",
      " - 0s - loss: 0.0721 - acc: 0.9764\n",
      "Epoch 18/60\n",
      " - 0s - loss: 0.0730 - acc: 0.9756\n",
      "Epoch 19/60\n",
      " - 0s - loss: 0.0745 - acc: 0.9747\n",
      "Epoch 20/60\n",
      " - 0s - loss: 0.0731 - acc: 0.9747\n",
      "Epoch 21/60\n",
      " - 0s - loss: 0.0725 - acc: 0.9752\n",
      "Epoch 22/60\n",
      " - 0s - loss: 0.0675 - acc: 0.9781\n",
      "Epoch 23/60\n",
      " - 0s - loss: 0.0663 - acc: 0.9781\n",
      "Epoch 24/60\n",
      " - 0s - loss: 0.0658 - acc: 0.9769\n",
      "Epoch 25/60\n",
      " - 0s - loss: 0.0639 - acc: 0.9790\n",
      "Epoch 26/60\n",
      " - 0s - loss: 0.0630 - acc: 0.9794\n",
      "Epoch 27/60\n",
      " - 0s - loss: 0.0645 - acc: 0.9790\n",
      "Epoch 28/60\n",
      " - 0s - loss: 0.0597 - acc: 0.9777\n",
      "Epoch 29/60\n",
      " - 0s - loss: 0.0583 - acc: 0.9798\n",
      "Epoch 30/60\n",
      " - 0s - loss: 0.0670 - acc: 0.9794\n",
      "Epoch 31/60\n",
      " - 0s - loss: 0.0559 - acc: 0.9823\n",
      "Epoch 32/60\n",
      " - 0s - loss: 0.0602 - acc: 0.9773\n",
      "Epoch 33/60\n",
      " - 0s - loss: 0.0604 - acc: 0.9806\n",
      "Epoch 34/60\n",
      " - 0s - loss: 0.0568 - acc: 0.9811\n",
      "Epoch 35/60\n",
      " - 0s - loss: 0.0550 - acc: 0.9823\n",
      "Epoch 36/60\n",
      " - 0s - loss: 0.0582 - acc: 0.9811\n",
      "Epoch 37/60\n",
      " - 0s - loss: 0.0520 - acc: 0.9806\n",
      "Epoch 38/60\n",
      " - 0s - loss: 0.0525 - acc: 0.9823\n",
      "Epoch 39/60\n",
      " - 0s - loss: 0.0492 - acc: 0.9827\n",
      "Epoch 40/60\n",
      " - 0s - loss: 0.0495 - acc: 0.9815\n",
      "Epoch 41/60\n",
      " - 0s - loss: 0.0485 - acc: 0.9844\n",
      "Epoch 42/60\n",
      " - 0s - loss: 0.0512 - acc: 0.9811\n",
      "Epoch 43/60\n",
      " - 0s - loss: 0.0464 - acc: 0.9840\n",
      "Epoch 44/60\n",
      " - 0s - loss: 0.0521 - acc: 0.9815\n",
      "Epoch 45/60\n",
      " - 0s - loss: 0.0473 - acc: 0.9836\n",
      "Epoch 46/60\n",
      " - 0s - loss: 0.0514 - acc: 0.9798\n",
      "Epoch 47/60\n",
      " - 0s - loss: 0.0476 - acc: 0.9815\n",
      "Epoch 48/60\n",
      " - 0s - loss: 0.0471 - acc: 0.9832\n",
      "Epoch 49/60\n",
      " - 0s - loss: 0.0473 - acc: 0.9840\n",
      "Epoch 50/60\n",
      " - 0s - loss: 0.0460 - acc: 0.9840\n",
      "Epoch 51/60\n",
      " - 0s - loss: 0.0543 - acc: 0.9819\n",
      "Epoch 52/60\n",
      " - 0s - loss: 0.0454 - acc: 0.9798\n",
      "Epoch 53/60\n",
      " - 0s - loss: 0.0431 - acc: 0.9853\n",
      "Epoch 54/60\n",
      " - 0s - loss: 0.0415 - acc: 0.9840\n",
      "Epoch 55/60\n",
      " - 0s - loss: 0.0397 - acc: 0.9848\n",
      "Epoch 56/60\n",
      " - 0s - loss: 0.0395 - acc: 0.9857\n",
      "Epoch 57/60\n",
      " - 0s - loss: 0.0488 - acc: 0.9815\n",
      "Epoch 58/60\n",
      " - 0s - loss: 0.0430 - acc: 0.9853\n",
      "Epoch 59/60\n",
      " - 0s - loss: 0.0447 - acc: 0.9827\n",
      "Epoch 60/60\n",
      " - 0s - loss: 0.0440 - acc: 0.9844\n"
     ]
    },
    {
     "data": {
      "text/plain": [
       "<tensorflow.python.keras.callbacks.History at 0x1a2cc26940>"
      ]
     },
     "execution_count": 15,
     "metadata": {},
     "output_type": "execute_result"
    }
   ],
   "source": [
    "model.fit(\n",
    "    X_train_scaled,\n",
    "    y_train_categorical,\n",
    "    epochs=60,\n",
    "    shuffle=True,\n",
    "    verbose=2\n",
    ")"
   ]
  },
  {
   "cell_type": "markdown",
   "metadata": {},
   "source": [
    "## Quantify our Trained Model"
   ]
  },
  {
   "cell_type": "code",
   "execution_count": 16,
   "metadata": {},
   "outputs": [
    {
     "name": "stdout",
     "output_type": "stream",
     "text": [
      "Normal Neural Network - Loss: 0.04577162155806266, Accuracy: 0.9873737373737373\n"
     ]
    }
   ],
   "source": [
    "model_loss, model_accuracy = model.evaluate(\n",
    "    X_test_scaled, y_test_categorical, verbose=2)\n",
    "print(\n",
    "    f\"Normal Neural Network - Loss: {model_loss}, Accuracy: {model_accuracy}\")"
   ]
  },
  {
   "cell_type": "markdown",
   "metadata": {
    "slideshow": {
     "slide_type": "subslide"
    }
   },
   "source": [
    "## Make Predictions"
   ]
  },
  {
   "cell_type": "code",
   "execution_count": null,
   "metadata": {
    "nbgrader": {
     "grade": false,
     "grade_id": "cell-f97eb3e97245187b",
     "locked": false,
     "schema_version": 1,
     "solution": true
    },
    "slideshow": {
     "slide_type": "fragment"
    }
   },
   "outputs": [],
   "source": [
    "encoded_predictions = model.predict_classes(X_test_scaled[:5])\n",
    "prediction_labels = label_encoder.inverse_transform(encoded_predictions)"
   ]
  },
  {
   "cell_type": "code",
   "execution_count": 18,
   "metadata": {},
   "outputs": [
    {
     "name": "stdout",
     "output_type": "stream",
     "text": [
      "Predicted classes: ['female' 'female' 'male' 'female' 'male']\n",
      "Actual Labels: ['female', 'female', 'male', 'female', 'male']\n"
     ]
    }
   ],
   "source": [
    "print(f\"Predicted classes: {prediction_labels}\")\n",
    "print(f\"Actual Labels: {list(y_test[:5])}\")"
   ]
  }
 ],
 "metadata": {
  "kernelspec": {
   "display_name": "Python 3",
   "language": "python",
   "name": "python3"
  },
  "language_info": {
   "codemirror_mode": {
    "name": "ipython",
    "version": 3
   },
   "file_extension": ".py",
   "mimetype": "text/x-python",
   "name": "python",
   "nbconvert_exporter": "python",
   "pygments_lexer": "ipython3",
   "version": "3.7.3"
  },
  "varInspector": {
   "cols": {
    "lenName": 16,
    "lenType": 16,
    "lenVar": 40
   },
   "kernels_config": {
    "python": {
     "delete_cmd_postfix": "",
     "delete_cmd_prefix": "del ",
     "library": "var_list.py",
     "varRefreshCmd": "print(var_dic_list())"
    },
    "r": {
     "delete_cmd_postfix": ") ",
     "delete_cmd_prefix": "rm(",
     "library": "var_list.r",
     "varRefreshCmd": "cat(var_dic_list()) "
    }
   },
   "types_to_exclude": [
    "module",
    "function",
    "builtin_function_or_method",
    "instance",
    "_Feature"
   ],
   "window_display": false
  }
 },
 "nbformat": 4,
 "nbformat_minor": 2
}
